{
 "cells": [
  {
   "cell_type": "markdown",
   "id": "fatty-titanium",
   "metadata": {
    "id": "fatty-titanium"
   },
   "source": [
    "## Problem Statement\n",
    "\n",
    "This tutorial takes a practical and coding-focused approach. We'll learn how to apply _logistic regression_ to a real-world dataset from [Kaggle](https://kaggle.com/datasets):\n",
    "\n",
    "> **QUESTION**: The [Rain in Australia dataset](https://kaggle.com/jsphyg/weather-dataset-rattle-package) contains about 10 years of daily weather observations from numerous Australian weather stations. Here's a small sample from the dataset:\n",
    ">\n",
    "> ![](https://i.imgur.com/5QNJvir.png)\n",
    ">\n",
    "> As a data scientist at the Bureau of Meteorology, you are tasked with creating a fully-automated system that can use today's weather data for a given location to predict whether it will rain at the location tomorrow.\n",
    ">\n",
    ">\n",
    "> ![](https://i.imgur.com/KWfcpcO.png)\n",
    "\n",
    "\n"
   ]
  },
  {
   "cell_type": "markdown",
   "id": "absolute-organ",
   "metadata": {
    "id": "absolute-organ"
   },
   "source": [
    "### Classification Problems\n",
    "\n",
    "\n",
    "Problems where each input must be assigned a discrete category (also called label or class) are known as _classification problems_.\n",
    "\n",
    "Here are some examples of classification problems:\n",
    "\n",
    "- [Rainfall prediction](https://kaggle.com/jsphyg/weather-dataset-rattle-package): Predicting whether it will rain tomorrow using today's weather data (classes are \"Will Rain\" and \"Will Not Rain\")\n",
    "- [Breast cancer detection](https://www.kaggle.com/uciml/breast-cancer-wisconsin-data): Predicting whether a tumor  is \"benign\" (noncancerous) or \"malignant\" (cancerous) using information like its radius, texture etc.\n",
    "- [Loan Repayment Prediction](https://www.kaggle.com/c/home-credit-default-risk) - Predicting whether applicants will repay a home loan based on factors like age, income, loan amount, no. of children etc.\n",
    "- [Handwritten Digit Recognition](https://www.kaggle.com/c/digit-recognizer) - Identifying which digit from 0 to 9 a picture of handwritten text represents.\n",
    "\n"
   ]
  },
  {
   "cell_type": "markdown",
   "id": "photographic-saint",
   "metadata": {
    "id": "photographic-saint"
   },
   "source": [
    "### Linear Regression for Solving Regression Problems\n",
    "\n",
    "Linear regression is a commonly used technique for solving regression problems. In a linear regression model, the target is modeled as a linear combination (or weighted sum) of input features. The predictions from the model are evaluated using a loss function like the Root Mean Squared Error (RMSE).\n",
    "\n",
    "\n",
    "Here's a visual summary of how a linear regression model is structured:\n",
    "\n",
    "<img src=\"https://i.imgur.com/iTM2s5k.png\" width=\"480\">\n",
    "\n",
    "\n",
    "For a mathematical discussion of linear regression, watch [this YouTube playlist](https://www.youtube.com/watch?v=kHwlB_j7Hkc&list=PLJs7lEb1U5pYnrI0Wn4mzPmppVqwERL_4&index=1)\n"
   ]
  },
  {
   "cell_type": "markdown",
   "id": "romance-airfare",
   "metadata": {
    "id": "romance-airfare"
   },
   "source": [
    "### Logistic Regression for Solving Classification Problems\n",
    "\n",
    "Logistic regression is a commonly used technique for solving binary classification problems. In a logistic regression model:\n",
    "\n",
    "- we take linear combination (or weighted sum of the input features)\n",
    "- we apply the sigmoid function to the result to obtain a number between 0 and 1\n",
    "- this number represents the probability of the input being classified as \"Yes\"\n",
    "- instead of RMSE, the cross entropy loss function is used to evaluate the results\n",
    "\n",
    "\n",
    "Here's a visual summary of how a logistic regression model is structured ([source](http://datahacker.rs/005-pytorch-logistic-regression-in-pytorch/)):\n",
    "\n",
    "\n",
    "<img src=\"https://i.imgur.com/YMaMo5D.png\" width=\"480\">\n",
    "\n",
    "The sigmoid function applied to the linear combination of inputs has the following formula:\n",
    "\n",
    "<img src=\"https://i.imgur.com/sAVwvZP.png\" width=\"400\">\n",
    "\n",
    "\n",
    "The output of the sigmoid function is called a logistic, hence the name _logistic regression_. For a mathematical discussion of logistic regression, sigmoid activation and cross entropy, check out [this YouTube playlist](https://www.youtube.com/watch?v=-la3q9d7AKQ&list=PLNeKWBMsAzboR8vvhnlanxCNr2V7ITuxy&index=1). Logistic regression can also be applied to multi-class classification problems, with a few modifications.\n"
   ]
  },
  {
   "cell_type": "markdown",
   "id": "chronic-assembly",
   "metadata": {
    "id": "chronic-assembly"
   },
   "source": [
    "### Machine Learning Workflow\n",
    "\n",
    "Whether we're solving a regression problem using linear regression or a classification problem using logistic regression, the workflow for training a model is exactly the same:\n",
    "\n",
    "1. We initialize a model with random parameters (weights & biases).\n",
    "2. We pass some inputs into the model to obtain predictions.\n",
    "3. We compare the model's predictions with the actual targets using the loss function.  \n",
    "4. We use an optimization technique (like least squares, gradient descent etc.) to reduce the loss by adjusting the weights & biases of the model\n",
    "5. We repeat steps 1 to 4 till the predictions from the model are good enough.\n",
    "\n",
    "\n",
    "<img src=\"https://i.imgur.com/g32CoIy.png\" width=\"480\">\n",
    "\n",
    "\n",
    "Classification and regression are both supervised machine learning problems, because they use labeled data. Machine learning applied to unlabeled data is known as unsupervised learning ([image source](https://au.mathworks.com/help/stats/machine-learning-in-matlab.html)).\n",
    "\n",
    "<img src=\"https://i.imgur.com/1EMQmAw.png\" width=\"480\">\n",
    "\n",
    "\n",
    "In this tutorial, we'll train a _logistic regression_ model using the Rain in Australia dataset to predict whether or not it will rain at a location tomorrow, using today's data. This is a _binary classification_ problem.\n",
    "\n",
    "Let's install the `scikit-learn` library which we'll use to train our model."
   ]
  },
  {
   "cell_type": "markdown",
   "id": "after-techno",
   "metadata": {
    "id": "after-techno"
   },
   "source": [
    "## Downloading the Data\n",
    "\n",
    "We'll use the [`opendatasets` library](https://github.com/JovianML/opendatasets) to download the data from Kaggle directly within Jupyter. Let's install and import `opendatasets`."
   ]
  },
  {
   "cell_type": "markdown",
   "id": "extraordinary-brother",
   "metadata": {
    "id": "extraordinary-brother"
   },
   "source": [
    "The dataset can now be downloaded using `od.download`. When you execute `od.download`, you will be asked to provide your Kaggle username and API key. Follow these instructions to create an API key: http://bit.ly/kaggle-creds"
   ]
  },
  {
   "cell_type": "markdown",
   "id": "former-smart",
   "metadata": {
    "id": "former-smart"
   },
   "source": [
    "Once the above command is executed, the dataset is downloaded and extracted to the the directory `weather-dataset-rattle-package`."
   ]
  },
  {
   "cell_type": "markdown",
   "id": "moved-baltimore",
   "metadata": {
    "id": "moved-baltimore"
   },
   "source": [
    "\n",
    "Let's load the data from `weatherAUS.csv` using Pandas."
   ]
  },
  {
   "cell_type": "markdown",
   "id": "outer-salem",
   "metadata": {
    "id": "outer-salem"
   },
   "source": [
    "The dataset contains over 145,000 rows and 23 columns. The dataset contains date, numeric and categorical columns. Our objective is to create a model to predict the value in the column `RainTomorrow`.\n",
    "\n",
    "Let's check the data types and missing values in the various columns."
   ]
  },
  {
   "cell_type": "markdown",
   "id": "circular-jesus",
   "metadata": {
    "id": "circular-jesus"
   },
   "source": [
    "While we should be able to fill in missing values for most columns, it might be a good idea to discard the rows where the value of `RainTomorrow` or `RainToday` is missing to make our analysis and modeling simpler (since one of them is the target variable, and the other is likely to be very closely related to the target variable)."
   ]
  },
  {
   "cell_type": "markdown",
   "id": "guilty-crest",
   "metadata": {
    "id": "guilty-crest"
   },
   "source": [
    "How would you deal with the missing values in the other columns?\n"
   ]
  },
  {
   "cell_type": "markdown",
   "id": "dimensional-webcam",
   "metadata": {
    "id": "dimensional-webcam"
   },
   "source": [
    "## Exploratory Data Analysis and Visualization\n",
    "\n"
   ]
  },
  {
   "cell_type": "markdown",
   "id": "measured-champion",
   "metadata": {
    "id": "measured-champion"
   },
   "source": [
    "## (Optional) Working with a Sample\n",
    "\n",
    "When working with massive datasets containing millions of rows, it's a good idea to work with a sample initially, to quickly set up your model training notebook. If you'd like to work with a sample, just set the value of `use_sample` to `True`."
   ]
  },
  {
   "cell_type": "markdown",
   "id": "composite-philosophy",
   "metadata": {
    "id": "composite-philosophy"
   },
   "source": [
    "Make sure to set `use_sample` to `False` and re-run the notebook end-to-end once you're ready to use the entire dataset."
   ]
  },
  {
   "cell_type": "markdown",
   "id": "improved-cricket",
   "metadata": {
    "id": "improved-cricket"
   },
   "source": [
    "## Training, Validation and Test Sets\n",
    "\n",
    "While building real-world machine learning models, it is quite common to split the dataset into three parts:\n",
    "\n",
    "1. **Training set** - used to train the model, i.e., compute the loss and adjust the model's weights using an optimization technique.\n",
    "\n",
    "\n",
    "2. **Validation set** - used to evaluate the model during training, tune model hyperparameters (optimization technique, regularization etc.), and pick the best version of the model. Picking a good validation set is essential for training models that generalize well. [Learn more here.](https://www.fast.ai/2017/11/13/validation-sets/)\n",
    "\n",
    "\n",
    "3. **Test set** - used to compare different models or approaches and report the model's final accuracy. For many datasets, test sets are provided separately. The test set should reflect the kind of data the model will encounter in the real-world, as closely as feasible.\n",
    "\n",
    "\n",
    "<img src=\"https://i.imgur.com/j8eITrK.png\" width=\"480\">\n",
    "\n",
    "\n",
    "As a general rule of thumb you can use around 60% of the data for the training set, 20% for the validation set and 20% for the test set. If a separate test set is already provided, you can use a 75%-25% training-validation split.\n",
    "\n",
    "\n",
    "When rows in the dataset have no inherent order, it's common practice to pick random subsets of rows for creating test and validation sets. This can be done using the `train_test_split` utility from `scikit-learn`. Learn more about it here: https://scikit-learn.org/stable/modules/generated/sklearn.model_selection.train_test_split.html"
   ]
  },
  {
   "cell_type": "markdown",
   "id": "answering-vitamin",
   "metadata": {
    "id": "answering-vitamin"
   },
   "source": [
    "However, while working with dates, it's often a better idea to separate the training, validation and test sets with time, so that the model is trained on data from the past and evaluated on data from the future.\n",
    "\n",
    "For the current dataset, we can use the Date column in the dataset to create another column for year. We'll pick the last two years for the test set, and one year before it for the validation set."
   ]
  },
  {
   "cell_type": "markdown",
   "id": "subsequent-structure",
   "metadata": {
    "id": "subsequent-structure"
   },
   "source": [
    "While not a perfect 60-20-20 split, we have ensured that the test validation and test sets both contain data for all 12 months of the year."
   ]
  },
  {
   "cell_type": "markdown",
   "id": "fiscal-outreach",
   "metadata": {
    "id": "fiscal-outreach"
   },
   "source": [
    "Let's save our work before continuing."
   ]
  },
  {
   "cell_type": "markdown",
   "id": "burning-agency",
   "metadata": {
    "id": "burning-agency"
   },
   "source": [
    "## Identifying Input and Target Columns\n",
    "\n",
    "Often, not all the columns in a dataset are useful for training a model. In the current dataset, we can ignore the `Date` column, since we only want to weather conditions to make a prediction about whether it will rain the next day.\n",
    "\n",
    "Let's create a list of input columns, and also identify the target column."
   ]
  },
  {
   "cell_type": "markdown",
   "id": "respiratory-sudan",
   "metadata": {
    "id": "respiratory-sudan"
   },
   "source": [
    "We can now create inputs and targets for the training, validation and test sets for further processing and model training."
   ]
  },
  {
   "cell_type": "markdown",
   "id": "persistent-hybrid",
   "metadata": {
    "id": "persistent-hybrid"
   },
   "source": [
    "Let's also identify which of the columns are numerical and which ones are categorical. This will be useful later, as we'll need to convert the categorical data to numbers for training a logistic regression model."
   ]
  },
  {
   "cell_type": "markdown",
   "id": "devoted-butler",
   "metadata": {
    "id": "devoted-butler"
   },
   "source": [
    "Let's view some statistics for the numeric columns."
   ]
  },
  {
   "cell_type": "markdown",
   "id": "portuguese-substance",
   "metadata": {
    "id": "portuguese-substance"
   },
   "source": [
    "Do the ranges of the numeric columns seem reasonable? If not, we may have to do some data cleaning as well.\n",
    "\n",
    "Let's also check the number of categories in each of the categorical columns."
   ]
  },
  {
   "cell_type": "markdown",
   "id": "direct-stylus",
   "metadata": {
    "id": "direct-stylus"
   },
   "source": [
    "Let's save our work before continuing."
   ]
  },
  {
   "cell_type": "markdown",
   "id": "employed-highland",
   "metadata": {
    "id": "employed-highland"
   },
   "source": [
    "## Imputing Missing Numeric Data\n",
    "\n",
    "Machine learning models can't work with missing numerical data. The process of filling missing values is called imputation.\n",
    "\n",
    "<img src=\"https://i.imgur.com/W7cfyOp.png\" width=\"480\">\n",
    "\n",
    "There are several techniques for imputation, but we'll use the most basic one: replacing missing values with the average value in the column using the `SimpleImputer` class from `sklearn.impute`."
   ]
  },
  {
   "cell_type": "markdown",
   "id": "metric-composition",
   "metadata": {
    "id": "metric-composition"
   },
   "source": [
    "Before we perform imputation, let's check the no. of missing values in each numeric column."
   ]
  },
  {
   "cell_type": "markdown",
   "id": "royal-reporter",
   "metadata": {
    "id": "royal-reporter"
   },
   "source": [
    "These values are spread across the training, test and validation sets. You can also check the no. of missing values individually for `train_inputs`, `val_inputs` and `test_inputs`."
   ]
  },
  {
   "cell_type": "markdown",
   "id": "approximate-municipality",
   "metadata": {
    "id": "approximate-municipality"
   },
   "source": [
    "The first step in imputation is to `fit` the imputer to the data i.e. compute the chosen statistic (e.g. mean) for each column in the dataset."
   ]
  },
  {
   "cell_type": "markdown",
   "id": "alpine-opening",
   "metadata": {
    "id": "alpine-opening"
   },
   "source": [
    "After calling `fit`, the computed statistic for each column is stored in the `statistics_` property of `imputer`."
   ]
  },
  {
   "cell_type": "markdown",
   "id": "thousand-edmonton",
   "metadata": {
    "id": "thousand-edmonton"
   },
   "source": [
    "The missing values in the training, test and validation sets can now be filled in using the `transform` method of `imputer`."
   ]
  },
  {
   "cell_type": "markdown",
   "id": "sacred-tulsa",
   "metadata": {
    "id": "sacred-tulsa"
   },
   "source": [
    "The missing values are now filled in with the mean of each column."
   ]
  },
  {
   "cell_type": "markdown",
   "id": "incident-thompson",
   "metadata": {
    "id": "incident-thompson"
   },
   "source": [
    "> **EXERCISE**: Apply some other imputation techniques and observe how they change the results of the model. You can learn more about other imputation techniques here: https://scikit-learn.org/stable/modules/impute.html"
   ]
  },
  {
   "cell_type": "markdown",
   "id": "reduced-niger",
   "metadata": {
    "id": "reduced-niger"
   },
   "source": [
    "## Scaling Numeric Features\n",
    "\n",
    "Another good practice is to scale numeric features to a small range of values e.g. $(0,1)$ or $(-1,1)$. Scaling numeric features ensures that no particular feature has a disproportionate impact on the model's loss. Optimization algorithms also work better in practice with smaller numbers.\n",
    "\n",
    "The numeric columns in our dataset have varying ranges."
   ]
  },
  {
   "cell_type": "markdown",
   "id": "appreciated-brief",
   "metadata": {
    "id": "appreciated-brief"
   },
   "source": [
    "Let's use `MinMaxScaler` from `sklearn.preprocessing` to scale values to the $(0,1)$ range."
   ]
  },
  {
   "cell_type": "markdown",
   "id": "satellite-ecology",
   "metadata": {
    "id": "satellite-ecology"
   },
   "source": [
    "First, we `fit` the scaler to the data i.e. compute the range of values for each numeric column."
   ]
  },
  {
   "cell_type": "markdown",
   "id": "conservative-brooks",
   "metadata": {
    "id": "conservative-brooks"
   },
   "source": [
    "We can now inspect the minimum and maximum values in each column."
   ]
  },
  {
   "cell_type": "markdown",
   "id": "double-category",
   "metadata": {
    "id": "double-category"
   },
   "source": [
    "We can now separately scale the training, validation and test sets using the `transform` method of `scaler`."
   ]
  },
  {
   "cell_type": "markdown",
   "id": "million-freeware",
   "metadata": {
    "id": "million-freeware"
   },
   "source": [
    "We can now verify that values in each column lie in the range $(0,1)$"
   ]
  },
  {
   "cell_type": "markdown",
   "id": "adopted-grave",
   "metadata": {
    "id": "adopted-grave"
   },
   "source": [
    "Learn more about scaling techniques here: https://machinelearningmastery.com/standardscaler-and-minmaxscaler-transforms-in-python/"
   ]
  },
  {
   "cell_type": "markdown",
   "id": "voluntary-promotion",
   "metadata": {
    "id": "voluntary-promotion"
   },
   "source": [
    "Let's save our work before continuing."
   ]
  },
  {
   "cell_type": "markdown",
   "id": "naked-porter",
   "metadata": {
    "id": "naked-porter"
   },
   "source": [
    "## Encoding Categorical Data\n",
    "\n",
    "Since machine learning models can only be trained with numeric data, we need to convert categorical data to numbers. A common technique is to use one-hot encoding for categorical columns.\n",
    "\n",
    "<img src=\"https://i.imgur.com/n8GuiOO.png\" width=\"640\">\n",
    "\n",
    "One hot encoding involves adding a new binary (0/1) column for each unique category of a categorical column."
   ]
  },
  {
   "cell_type": "markdown",
   "id": "outer-thriller",
   "metadata": {
    "id": "outer-thriller"
   },
   "source": [
    "We can perform one hot encoding using the `OneHotEncoder` class from `sklearn.preprocessing`."
   ]
  },
  {
   "cell_type": "markdown",
   "id": "competent-facial",
   "metadata": {
    "id": "competent-facial"
   },
   "source": [
    "First, we `fit` the encoder to the data i.e. identify the full list of categories across all categorical columns."
   ]
  },
  {
   "cell_type": "markdown",
   "id": "concerned-price",
   "metadata": {
    "id": "concerned-price"
   },
   "source": [
    "The encoder has created a list of categories for each of the categorical columns in the dataset.\n",
    "\n",
    "We can generate column names for each individual category using `get_feature_names_out\n",
    "`."
   ]
  },
  {
   "cell_type": "markdown",
   "id": "indirect-morocco",
   "metadata": {
    "id": "indirect-morocco"
   },
   "source": [
    "All of the above columns will be added to `train_inputs`, `val_inputs` and `test_inputs`.\n",
    "\n",
    "To perform the encoding, we use the `transform` method of `encoder`."
   ]
  },
  {
   "cell_type": "markdown",
   "id": "flexible-slide",
   "metadata": {
    "id": "flexible-slide"
   },
   "source": [
    "We can verify that these new columns have been added to our training, test and validation sets."
   ]
  },
  {
   "cell_type": "markdown",
   "id": "italic-compensation",
   "metadata": {
    "id": "italic-compensation"
   },
   "source": [
    "Let's save our work before continuing."
   ]
  },
  {
   "cell_type": "markdown",
   "id": "twelve-passenger",
   "metadata": {
    "id": "twelve-passenger"
   },
   "source": [
    "## Saving Processed Data to Disk\n",
    "\n",
    "It can be useful to save processed data to disk, especially for really large datasets, to avoid repeating the preprocessing steps every time you start the Jupyter notebook. The parquet format is a fast and efficient format for saving and loading Pandas dataframes."
   ]
  },
  {
   "cell_type": "markdown",
   "id": "present-bunch",
   "metadata": {
    "id": "present-bunch"
   },
   "source": [
    "We can read the data back using `pd.read_parquet`."
   ]
  },
  {
   "cell_type": "markdown",
   "id": "vocational-elite",
   "metadata": {
    "id": "vocational-elite"
   },
   "source": [
    "Let's verify that the data was loaded properly."
   ]
  },
  {
   "cell_type": "markdown",
   "id": "million-space",
   "metadata": {
    "id": "million-space"
   },
   "source": [
    "## Training a Logistic Regression Model\n",
    "\n",
    "Logistic regression is a commonly used technique for solving binary classification problems. In a logistic regression model:\n",
    "\n",
    "- we take linear combination (or weighted sum of the input features)\n",
    "- we apply the sigmoid function to the result to obtain a number between 0 and 1\n",
    "- this number represents the probability of the input being classified as \"Yes\"\n",
    "- instead of RMSE, the cross entropy loss function is used to evaluate the results\n",
    "\n",
    "\n",
    "Here's a visual summary of how a logistic regression model is structured ([source](http://datahacker.rs/005-pytorch-logistic-regression-in-pytorch/)):\n",
    "\n",
    "\n",
    "<img src=\"https://i.imgur.com/YMaMo5D.png\" width=\"480\">\n",
    "\n",
    "The sigmoid function applied to the linear combination of inputs has the following formula:\n",
    "\n",
    "<img src=\"https://i.imgur.com/sAVwvZP.png\" width=\"400\">\n",
    "\n",
    "To train a logistic regression model, we can use the `LogisticRegression` class from Scikit-learn."
   ]
  },
  {
   "cell_type": "markdown",
   "id": "cutting-exercise",
   "metadata": {
    "id": "cutting-exercise"
   },
   "source": [
    "We can train the model using `model.fit`."
   ]
  },
  {
   "cell_type": "markdown",
   "id": "standard-crime",
   "metadata": {
    "id": "standard-crime"
   },
   "source": [
    "`model.fit` uses the following workflow for training the model ([source](https://www.deepnetts.com/blog/from-basic-machine-learning-to-deep-learning-in-5-minutes.html)):\n",
    "\n",
    "1. We initialize a model with random parameters (weights & biases).\n",
    "2. We pass some inputs into the model to obtain predictions.\n",
    "3. We compare the model's predictions with the actual targets using the loss function.  \n",
    "4. We use an optimization technique (like least squares, gradient descent etc.) to reduce the loss by adjusting the weights & biases of the model\n",
    "5. We repeat steps 1 to 4 till the predictions from the model are good enough.\n",
    "\n",
    "\n",
    "<img src=\"https://i.imgur.com/g32CoIy.png\" width=\"480\">\n",
    "\n",
    "For a mathematical discussion of logistic regression, sigmoid activation and cross entropy, check out [this YouTube playlist](https://www.youtube.com/watch?v=-la3q9d7AKQ&list=PLNeKWBMsAzboR8vvhnlanxCNr2V7ITuxy&index=1). Logistic regression can also be applied to multi-class classification problems, with a few modifications.\n"
   ]
  },
  {
   "cell_type": "markdown",
   "id": "legislative-correspondence",
   "metadata": {
    "id": "legislative-correspondence"
   },
   "source": [
    "Let's check the weights and biases of the trained model."
   ]
  },
  {
   "cell_type": "markdown",
   "id": "fifteen-vermont",
   "metadata": {
    "id": "fifteen-vermont"
   },
   "source": [
    "Each weight is applied to the value in a specific column of the input. Higher the weight, greater the impact of the column on the prediction."
   ]
  },
  {
   "cell_type": "markdown",
   "id": "boxed-parish",
   "metadata": {
    "id": "boxed-parish"
   },
   "source": [
    "## Making Predictions and Evaluating the Model\n",
    "\n",
    "We can now use the trained model to make predictions on the training, test"
   ]
  },
  {
   "cell_type": "markdown",
   "id": "respected-crisis",
   "metadata": {
    "id": "respected-crisis"
   },
   "source": [
    "We can output a probabilistic prediction using `predict_proba`."
   ]
  },
  {
   "cell_type": "markdown",
   "id": "hungarian-disposition",
   "metadata": {
    "id": "hungarian-disposition"
   },
   "source": [
    "The numbers above indicate the probabilities for the target classes \"No\" and \"Yes\"."
   ]
  },
  {
   "cell_type": "markdown",
   "id": "hearing-employee",
   "metadata": {
    "id": "hearing-employee"
   },
   "source": [
    "We can test the accuracy of the model's predictions by computing the percentage of matching values in `train_preds` and `train_targets`.\n",
    "\n",
    "This can be done using the `accuracy_score` function from `sklearn.metrics`."
   ]
  },
  {
   "cell_type": "markdown",
   "id": "blocked-estate",
   "metadata": {
    "id": "blocked-estate"
   },
   "source": [
    "The model achieves an accuracy of 85.1% on the training set. We can visualize the breakdown of correctly and incorrectly classified inputs using a confusion matrix.\n",
    "\n",
    "<img src=\"https://i.imgur.com/UM28BCN.png\" width=\"480\">"
   ]
  },
  {
   "cell_type": "markdown",
   "id": "specialized-fight",
   "metadata": {
    "id": "specialized-fight"
   },
   "source": [
    "Let's define a helper function to generate predictions, compute the accuracy score and plot a confusion matrix for a given st of inputs."
   ]
  },
  {
   "cell_type": "markdown",
   "id": "medical-transsexual",
   "metadata": {
    "id": "medical-transsexual"
   },
   "source": [
    "Let's compute the model's accuracy on the validation and test sets too."
   ]
  },
  {
   "cell_type": "markdown",
   "id": "reflected-garage",
   "metadata": {
    "id": "reflected-garage"
   },
   "source": [
    "The accuracy of the model on the test and validation set are above 84%, which suggests that our model generalizes well to data it hasn't seen before.\n",
    "\n",
    "But how good is 84% accuracy? While this depends on the nature of the problem and on business requirements, a good way to verify whether a model has actually learned something useful is to compare its results to a \"random\" or \"dumb\" model.\n",
    "\n",
    "Let's create two models: one that guesses randomly and another that always return \"No\". Both of these models completely ignore the inputs given to them."
   ]
  },
  {
   "cell_type": "markdown",
   "id": "historical-diploma",
   "metadata": {
    "id": "historical-diploma"
   },
   "source": [
    "Let's check the accuracies of these two models on the test set."
   ]
  },
  {
   "cell_type": "markdown",
   "id": "balanced-miller",
   "metadata": {
    "id": "balanced-miller"
   },
   "source": [
    "Our random model achieves an accuracy of 50% and our \"always No\" model achieves an accuracy of 77%.\n",
    "\n",
    "Thankfully, our model is better than a \"dumb\" or \"random\" model! This is not always the case, so it's a good practice to benchmark any model you train against such baseline models."
   ]
  },
  {
   "cell_type": "markdown",
   "id": "motivated-hanging",
   "metadata": {
    "id": "motivated-hanging"
   },
   "source": [
    "> **EXERCISE**: Initialize the `LogisticRegression` model with different arguments and try to achieve a higher accuracy. The arguments used for initializing the model are called hyperparameters (to differentiate them from weights and biases - parameters that are learned by the model during training). You can find the full list of arguments here: https://scikit-learn.org/stable/modules/generated/sklearn.linear_model.LogisticRegression.html"
   ]
  },
  {
   "cell_type": "markdown",
   "id": "dramatic-empty",
   "metadata": {
    "id": "dramatic-empty"
   },
   "source": [
    "> **EXERCISE**: Train a logistic regression model using just the numeric columns from the dataset. Does it perform better or worse than the model trained above?"
   ]
  },
  {
   "cell_type": "markdown",
   "id": "greenhouse-owner",
   "metadata": {
    "id": "greenhouse-owner"
   },
   "source": [
    "> **EXERCISE**: Train a logistic regression model using just the categorical columns from the dataset. Does it perform better or worse than the model trained above?"
   ]
  },
  {
   "cell_type": "markdown",
   "id": "considered-double",
   "metadata": {
    "id": "considered-double"
   },
   "source": [
    "> **EXERCISE**: Train a logistic regression model without feature scaling. Also try a different strategy for missing data imputation. Does it perform better or worse than the model trained above?"
   ]
  },
  {
   "cell_type": "markdown",
   "id": "prescribed-homeless",
   "metadata": {
    "id": "prescribed-homeless"
   },
   "source": [
    "Let's save our work before continuing."
   ]
  },
  {
   "cell_type": "markdown",
   "id": "stone-neutral",
   "metadata": {
    "id": "stone-neutral"
   },
   "source": [
    "## Making Predictions on a Single Input\n",
    "\n",
    "Once the model has been trained to a satisfactory accuracy, it can be used to make predictions on new data. Consider the following dictionary containing data collected from the Katherine weather department today."
   ]
  },
  {
   "cell_type": "markdown",
   "id": "twelve-employee",
   "metadata": {
    "id": "twelve-employee"
   },
   "source": [
    "The first step is to convert the dictionary into a Pandas dataframe, similar to `raw_df`. This can be done by passing a list containing the given dictionary to the `pd.DataFrame` constructor."
   ]
  },
  {
   "cell_type": "markdown",
   "id": "opened-furniture",
   "metadata": {
    "id": "opened-furniture"
   },
   "source": [
    "We've now created a Pandas dataframe with the same columns as `raw_df` (except `RainTomorrow`, which needs to be predicted). The dataframe contains just one row of data, containing the given input.\n",
    "\n",
    "\n",
    "We must now apply the same transformations applied while training the model:\n",
    "\n",
    "1. Imputation of missing values using the `imputer` created earlier\n",
    "2. Scaling numerical features using the `scaler` created earlier\n",
    "3. Encoding categorical features using the `encoder` created earlier"
   ]
  },
  {
   "cell_type": "markdown",
   "id": "stretch-design",
   "metadata": {
    "id": "stretch-design"
   },
   "source": [
    "We can now make a prediction using `model.predict`."
   ]
  },
  {
   "cell_type": "markdown",
   "id": "interpreted-webster",
   "metadata": {
    "id": "interpreted-webster"
   },
   "source": [
    "Our model predicts that it will rain tomorrow in Katherine! We can also check the probability of the prediction."
   ]
  },
  {
   "cell_type": "markdown",
   "id": "piano-diagnosis",
   "metadata": {
    "id": "piano-diagnosis"
   },
   "source": [
    "Looks like our model isn't too confident about its prediction!"
   ]
  },
  {
   "cell_type": "markdown",
   "id": "lightweight-cursor",
   "metadata": {
    "id": "lightweight-cursor"
   },
   "source": [
    "Let's define a helper function to make predictions for individual inputs."
   ]
  },
  {
   "cell_type": "markdown",
   "id": "patient-table",
   "metadata": {
    "id": "patient-table"
   },
   "source": [
    "We can now use this function to make predictions for individual inputs."
   ]
  },
  {
   "cell_type": "markdown",
   "id": "associate-fighter",
   "metadata": {
    "id": "associate-fighter"
   },
   "source": [
    "> **EXERCISE**: Try changing the values in `new_input` and observe how the predictions and probabilities change. Try different values of location, temperature, humidity, pressure etc. Try to get an _intuitive feel_ of which columns have the greatest effect on the result of the model."
   ]
  },
  {
   "cell_type": "markdown",
   "id": "annoying-sauce",
   "metadata": {
    "id": "annoying-sauce"
   },
   "source": [
    "Let's save our work before continuing."
   ]
  },
  {
   "cell_type": "markdown",
   "id": "israeli-stable",
   "metadata": {
    "id": "israeli-stable"
   },
   "source": [
    "## Saving and Loading Trained Models\n",
    "\n",
    "We can save the parameters (weights and biases) of our trained model to disk, so that we needn't retrain the model from scratch each time we wish to use it. Along with the model, it's also important to save imputers, scalers, encoders and even column names. Anything that will be required while generating predictions using the model should be saved.\n",
    "\n",
    "We can use the `joblib` module to save and load Python objects on the disk."
   ]
  },
  {
   "cell_type": "markdown",
   "id": "valued-helicopter",
   "metadata": {
    "id": "valued-helicopter"
   },
   "source": [
    "Let's first create a dictionary containing all the required objects."
   ]
  },
  {
   "cell_type": "markdown",
   "id": "threatened-microwave",
   "metadata": {
    "id": "threatened-microwave"
   },
   "source": [
    "We can now save this to a file using `joblib.dump`"
   ]
  },
  {
   "cell_type": "markdown",
   "id": "marine-semiconductor",
   "metadata": {
    "id": "marine-semiconductor"
   },
   "source": [
    "The object can be loaded back using `joblib.load`"
   ]
  },
  {
   "cell_type": "markdown",
   "id": "going-petersburg",
   "metadata": {
    "id": "going-petersburg"
   },
   "source": [
    "Let's use the loaded model to make predictions on the original test set."
   ]
  },
  {
   "cell_type": "markdown",
   "id": "experimental-chester",
   "metadata": {
    "id": "experimental-chester"
   },
   "source": [
    "As expected, we get the same result as the original model."
   ]
  },
  {
   "cell_type": "markdown",
   "id": "yellow-interface",
   "metadata": {
    "id": "yellow-interface"
   },
   "source": [
    "Let's save our work before continuing. We can upload our trained models to Jovian using the `outputs` argument."
   ]
  },
  {
   "cell_type": "markdown",
   "id": "wrapped-buddy",
   "metadata": {
    "id": "wrapped-buddy"
   },
   "source": [
    "## Putting it all Together\n",
    "\n",
    "While we've covered a lot of ground in this tutorial, the number of lines of code for processing the data and training the model is fairly small. Each step requires no more than 3-4 lines of code."
   ]
  },
  {
   "cell_type": "markdown",
   "id": "sixth-browse",
   "metadata": {
    "id": "sixth-browse"
   },
   "source": [
    "### Data Preprocessing"
   ]
  },
  {
   "cell_type": "markdown",
   "id": "disabled-treasury",
   "metadata": {
    "id": "disabled-treasury"
   },
   "source": [
    "### Model Training and Evaluation\n"
   ]
  },
  {
   "cell_type": "markdown",
   "id": "sexual-guess",
   "metadata": {
    "id": "sexual-guess"
   },
   "source": [
    "### Prediction on Single Inputs"
   ]
  }
 ],
 "metadata": {
  "colab": {
   "collapsed_sections": [
    "electronic-literature"
   ],
   "provenance": []
  },
  "kernelspec": {
   "display_name": "Python 3 (ipykernel)",
   "language": "python",
   "name": "python3"
  },
  "language_info": {
   "codemirror_mode": {
    "name": "ipython",
    "version": 3
   },
   "file_extension": ".py",
   "mimetype": "text/x-python",
   "name": "python",
   "nbconvert_exporter": "python",
   "pygments_lexer": "ipython3",
   "version": "3.9.7"
  }
 },
 "nbformat": 4,
 "nbformat_minor": 5
}
